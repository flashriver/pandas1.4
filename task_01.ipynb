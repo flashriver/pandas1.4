{
 "cells": [
  {
   "cell_type": "markdown",
   "id": "88e572e7-40d7-48be-a0f5-0d5840043ced",
   "metadata": {},
   "source": [
    "joyful pandas 学习笔记    \n",
    "2022.08.21 update  \n",
    "\n",
    "学习资料:  \n",
    "- 开源内容：  http://joyfulpandas.datawhale.club/\n",
    "- 配套代码：  https://github.com/datawhalechina/joyful-pandas   \n",
    "- 学习视频：  https://www.bilibili.com/video/BV1tK4y177AF\n",
    "- 配套教材：  《Pandas数据处理与分析》 https://item.jd.com/13268767.html"
   ]
  },
  {
   "cell_type": "code",
   "execution_count": 64,
   "id": "f12af64f-d65c-4b1e-a5ec-148573b7eab6",
   "metadata": {
    "collapsed": true,
    "jupyter": {
     "outputs_hidden": true
    },
    "tags": []
   },
   "outputs": [
    {
     "name": "stdout",
     "output_type": "stream",
     "text": [
      "\n",
      "INSTALLED VERSIONS\n",
      "------------------\n",
      "commit           : bb1f651536508cdfef8550f93ace7849b00046ee\n",
      "python           : 3.10.0.final.0\n",
      "python-bits      : 64\n",
      "OS               : Windows\n",
      "OS-release       : 10\n",
      "Version          : 10.0.19044\n",
      "machine          : AMD64\n",
      "processor        : Intel64 Family 6 Model 60 Stepping 3, GenuineIntel\n",
      "byteorder        : little\n",
      "LC_ALL           : None\n",
      "LANG             : zh_CN.UTF-8\n",
      "LOCALE           : Chinese (Simplified)_China.936\n",
      "\n",
      "pandas           : 1.4.0\n",
      "numpy            : 1.21.5\n",
      "pytz             : 2021.3\n",
      "dateutil         : 2.8.2\n",
      "pip              : 21.2.4\n",
      "setuptools       : 61.2.0\n",
      "Cython           : None\n",
      "pytest           : None\n",
      "hypothesis       : None\n",
      "sphinx           : None\n",
      "blosc            : None\n",
      "feather          : None\n",
      "xlsxwriter       : None\n",
      "lxml.etree       : None\n",
      "html5lib         : None\n",
      "pymysql          : None\n",
      "psycopg2         : None\n",
      "jinja2           : 3.0.3\n",
      "IPython          : 8.3.0\n",
      "pandas_datareader: None\n",
      "bs4              : 4.11.1\n",
      "bottleneck       : None\n",
      "fastparquet      : None\n",
      "fsspec           : None\n",
      "gcsfs            : None\n",
      "matplotlib       : 3.5.2\n",
      "numba            : None\n",
      "numexpr          : 2.8.1\n",
      "odfpy            : None\n",
      "openpyxl         : 3.0.10\n",
      "pandas_gbq       : None\n",
      "pyarrow          : None\n",
      "pyreadstat       : None\n",
      "pyxlsb           : None\n",
      "s3fs             : None\n",
      "scipy            : None\n",
      "sqlalchemy       : None\n",
      "tables           : 3.7.0\n",
      "tabulate         : None\n",
      "xarray           : None\n",
      "xlrd             : 2.0.1\n",
      "xlwt             : None\n",
      "zstandard        : None\n"
     ]
    }
   ],
   "source": [
    "import numpy as np\n",
    "import pandas as pd\n",
    "pd.show_versions()"
   ]
  },
  {
   "cell_type": "markdown",
   "id": "945e988c-56d2-4219-916b-511163674ca2",
   "metadata": {},
   "source": [
    "# Python基础\n",
    "## 列表推导式与条件赋值  \n",
    "1.列表推导式目的：快速生成新的列表，简化代码   \n",
    "2.列表推导式格式：[表达式 for 多个if或/和 for 语句]    "
   ]
  },
  {
   "cell_type": "code",
   "execution_count": null,
   "id": "116756f4-51c3-46f6-a83e-4cfaa8cddd3d",
   "metadata": {},
   "outputs": [],
   "source": []
  },
  {
   "cell_type": "markdown",
   "id": "45399e13-bf31-4caa-a847-ae7bc59ff272",
   "metadata": {},
   "source": [
    "### 列表推导式与循环\n",
    "基本上, 大多数时候, 列表推导式与循环可以实现我们的需求. 列表推导式的优点体现在能够使得代码更加简洁和清晰上, 但过早为了追求简洁而滥用列表推导式, 一方面会降低代码的可读性, 另一方, 过早进行优化也将导致大量时间的浪费."
   ]
  },
  {
   "cell_type": "code",
   "execution_count": 74,
   "id": "a3641eff-476a-41f2-8719-9a5a45b09ce8",
   "metadata": {},
   "outputs": [],
   "source": [
    "def my_func(lst):\n",
    "    new_lst=[]\n",
    "    for i in range(len(lst)):\n",
    "        new_lst.append(lst[i]**2)\n",
    "    return new_lst"
   ]
  },
  {
   "cell_type": "code",
   "execution_count": 76,
   "id": "ce93aa14-1a24-4700-86df-b86e0419a682",
   "metadata": {},
   "outputs": [
    {
     "name": "stdout",
     "output_type": "stream",
     "text": [
      "2.24 µs ± 13.9 ns per loop (mean ± std. dev. of 7 runs, 100,000 loops each)\n"
     ]
    }
   ],
   "source": [
    "# 循环\n",
    "lst=[0,1,2,3,4]\n",
    "%timeit my_func(lst)"
   ]
  },
  {
   "cell_type": "code",
   "execution_count": 77,
   "id": "d8a276ce-e64c-43f8-8138-c73e60bab9da",
   "metadata": {},
   "outputs": [
    {
     "name": "stdout",
     "output_type": "stream",
     "text": [
      "1.75 µs ± 7.86 ns per loop (mean ± std. dev. of 7 runs, 100,000 loops each)\n"
     ]
    }
   ],
   "source": [
    "#列表推导式\n",
    "lst=[0,1,2,3,4]\n",
    "%timeit [x**2 for x in lst]"
   ]
  },
  {
   "cell_type": "markdown",
   "id": "6a08b998-f7e3-4ac9-9335-fcfa664858ff",
   "metadata": {},
   "source": [
    "## 匿名函数与map方法"
   ]
  },
  {
   "cell_type": "code",
   "execution_count": null,
   "id": "58d640d8-efd3-4c77-91a9-b6e7a50ebd52",
   "metadata": {},
   "outputs": [],
   "source": []
  },
  {
   "cell_type": "markdown",
   "id": "257d1e57-141d-423f-8acb-e5b3ce5063c9",
   "metadata": {},
   "source": [
    "## zip对象与enumerate方法"
   ]
  },
  {
   "cell_type": "markdown",
   "id": "73f385d3-4406-4c93-ad29-b62db55d44c2",
   "metadata": {},
   "source": [
    "# Numpy 基础\n",
    "\n"
   ]
  },
  {
   "cell_type": "markdown",
   "id": "62888349-64e0-4eca-ad17-00c764b5f80c",
   "metadata": {},
   "source": [
    "## np数组的构造"
   ]
  },
  {
   "cell_type": "code",
   "execution_count": null,
   "id": "40ec403b-6c50-4fc0-a7c2-b2185708bab5",
   "metadata": {},
   "outputs": [],
   "source": []
  },
  {
   "cell_type": "markdown",
   "id": "2615dc80-faf6-45d9-ac23-eab4141042ec",
   "metadata": {},
   "source": [
    "## np数组的变形与合并"
   ]
  },
  {
   "cell_type": "code",
   "execution_count": null,
   "id": "2a450149-4926-4599-a2f7-320c154f3f47",
   "metadata": {},
   "outputs": [],
   "source": []
  },
  {
   "cell_type": "markdown",
   "id": "b90e8075-b9d7-4999-9733-c3f79e670df3",
   "metadata": {},
   "source": [
    "## np数组的切片与索引"
   ]
  },
  {
   "cell_type": "code",
   "execution_count": null,
   "id": "25137aec-e17f-431a-8339-5839dfdfa655",
   "metadata": {},
   "outputs": [],
   "source": []
  },
  {
   "cell_type": "markdown",
   "id": "23fcb834-06d7-439d-80d4-0e29d1b2de66",
   "metadata": {},
   "source": [
    "## 常用函数\n",
    "\n",
    "一些函数方法\n",
    "\n",
    "### np.random.choice()函数\n",
    "\n",
    "作用：官方文档上说的是“Generates a random sample from a given 1-D array”，大体意思是从给定的一维数组中产生随机样本，超过一维的数组是不能输入choice函数的。\n",
    "用法：choice(arrayA, size=None, replace=True, p=None). 其中，size可以为一个整数或者一个由整数构成的元组，代表choice函数输出的结构；replace参数用来选择有放回和无放回抽样；p参数是一个1-D array,是可选的参数，如果要赋值的话，长度必须和arrayA参数的长度一致，而且所有元素的和必须为1，因为p参数代表的是arrayA中每一个元素被选中的概率。\n",
    "例子\n",
    "\n",
    "myarray=np.array(['a', 'b', 'c', 'd'])\n",
    "np.random.choice(my_list, 2, replace=False, p=[0.1, 0.7, 0.1 ,0.1])\n",
    ">输出：['a' 'b']\n",
    "1\n",
    "2\n",
    "3\n",
    "\n",
    "\n"
   ]
  },
  {
   "cell_type": "markdown",
   "id": "0fb5fa3f-09fd-41ce-864d-7027a1090379",
   "metadata": {},
   "source": [
    "### np.reshape()与np.resize()的区别\n",
    "\n",
    "np.reshape()与np.resize()作用都是一样的，区别在于np.resize()会直接在原数组上做修改，而np.reshape是生成一个修改后的副本。我在做实验的时候使用 np.arange(10).resize((2,5)）这种写法，输出的不是新数组，而是None。而使用np.arange(10).reshape((2,5)）就能产生正确的输出。不太清楚其中具体的原理，希望有同学能帮忙解释一下。\n"
   ]
  },
  {
   "cell_type": "markdown",
   "id": "f130ecd3-eda4-47a6-a226-b9a0ea19c47d",
   "metadata": {},
   "source": [
    "### numpy.r_[]与numpy.c_[]\n",
    "\n",
    "np.r_[]和numpy.c_[]都是拼接数组的，但他们不是函数，没有输入和输出，只是一个操作，所以不用(),而是用索引[]符号。简单来说，在二维数组上，np.r_[]操作可以表示为上下合并（r代表的就是row,显然是在数组的行方向进行合并），np.c_[]操作可以表示为左右合并（c代表的就是column）例如\n",
    "\n",
    "x=np.arange(4).reshape((2,2))\n",
    "np.r_[x,x]\n",
    ">输出为：\n",
    ">[[0 1]  \n",
    " [2 3]  \n",
    " [0 1]  \n",
    " [2 3]]  \n",
    "np.c_[x,x]\n",
    ">输出为：\n",
    ">[[0 1 0 1]\n",
    " [2 3 2 3]]\n",
    "1\n",
    "2\n",
    "3\n",
    "4\n",
    "5\n",
    "6\n",
    "7\n",
    "8\n",
    "9\n",
    "10\n",
    "11\n",
    "np.r_[]和np.c_[]的更一般的用法其实还挺复杂，官方文档上给的解释没有太理解。。。\n",
    "\n"
   ]
  },
  {
   "cell_type": "markdown",
   "id": "0ce0506b-9b46-45f1-a0e7-596948b8017f",
   "metadata": {},
   "source": [
    "### numpy.ix_()函数\n",
    "\n",
    "np.ix_()是一个函数，可以快速构建索引数组，比如:"
   ]
  },
  {
   "cell_type": "code",
   "execution_count": 58,
   "id": "25d1068f-839e-437e-9ebd-6f7139fb0357",
   "metadata": {},
   "outputs": [
    {
     "data": {
      "text/plain": [
       "array([[0, 1, 2],\n",
       "       [3, 4, 5]])"
      ]
     },
     "execution_count": 58,
     "metadata": {},
     "output_type": "execute_result"
    }
   ],
   "source": [
    "a=np.arange(6).reshape((2,3))\n",
    "a"
   ]
  },
  {
   "cell_type": "code",
   "execution_count": 63,
   "id": "40a6bffb-6f91-49b3-bf84-3dd7c84eaeb8",
   "metadata": {},
   "outputs": [
    {
     "data": {
      "text/plain": [
       "[[2], [20]]"
      ]
     },
     "execution_count": 63,
     "metadata": {},
     "output_type": "execute_result"
    }
   ],
   "source": [
    "[ [a[0,1]*a[0,2]], [a[1,1]*a[1,2]] ]"
   ]
  },
  {
   "cell_type": "code",
   "execution_count": 61,
   "id": "dce5b241-41e3-4c2b-860c-63c3d551d561",
   "metadata": {},
   "outputs": [
    {
     "ename": "NameError",
     "evalue": "name 'x' is not defined",
     "output_type": "error",
     "traceback": [
      "\u001b[1;31m---------------------------------------------------------------------------\u001b[0m",
      "\u001b[1;31mNameError\u001b[0m                                 Traceback (most recent call last)",
      "Input \u001b[1;32mIn [61]\u001b[0m, in \u001b[0;36m<cell line: 1>\u001b[1;34m()\u001b[0m\n\u001b[1;32m----> 1\u001b[0m \u001b[43mx\u001b[49m[np\u001b[38;5;241m.\u001b[39mix_([\u001b[38;5;241m0\u001b[39m,\u001b[38;5;241m1\u001b[39m],[\u001b[38;5;241m1\u001b[39m,\u001b[38;5;241m2\u001b[39m])]\n",
      "\u001b[1;31mNameError\u001b[0m: name 'x' is not defined"
     ]
    }
   ],
   "source": [
    "x[np.ix_([0,1],[1,2])] "
   ]
  },
  {
   "cell_type": "code",
   "execution_count": 60,
   "id": "22bc033f-e043-4a7c-a939-46e446569dae",
   "metadata": {},
   "outputs": [
    {
     "data": {
      "text/plain": [
       "(array([[0],\n",
       "        [1]]),\n",
       " array([[1, 2]]))"
      ]
     },
     "execution_count": 60,
     "metadata": {},
     "output_type": "execute_result"
    }
   ],
   "source": [
    "np.ix_([0,1],[1,2])"
   ]
  },
  {
   "cell_type": "code",
   "execution_count": null,
   "id": "a86001ae-9c0d-45bb-bfb3-99441155a8a7",
   "metadata": {},
   "outputs": [],
   "source": [
    "可以很明显的看出，x[np.ix_([0,1],[1,2])] 就是\n",
    "[ [a[0,1] a[0,2]], [a[1,1] a[1,2]] ], 所以，np.ix_([0,1],[1,2)]\n",
    "相当于在[0,1]和[1,2]这两个序列之间做了笛卡尔乘积，再把笛卡尔乘积后的结果作为索引。\n"
   ]
  },
  {
   "cell_type": "markdown",
   "id": "b2dc630c-1ac0-41b7-917b-6f4ef6b14caf",
   "metadata": {},
   "source": [
    "### nan*统计函数\n",
    "\n",
    "numpy中像max,min,mean 等等统计函数，不能处理有缺失值的数组，因此需要先把缺失值去掉再统计，过程十分麻烦,并且还会修改原始数据, 有了 nan* 这种类型的函数,例如 nanmax,nanmin,nanmin 等等, 就可以直接忽略缺失值进行计算,更加方便.\n"
   ]
  },
  {
   "cell_type": "markdown",
   "id": "117ae7f9-5fd3-40b1-8214-5eb05fd6c308",
   "metadata": {},
   "source": [
    "## 广播机制"
   ]
  },
  {
   "cell_type": "code",
   "execution_count": null,
   "id": "adcffae1-17bc-484a-b2aa-af2db06ee941",
   "metadata": {},
   "outputs": [],
   "source": []
  },
  {
   "cell_type": "markdown",
   "id": "fca24e5b-3a73-438c-a004-ec44be67f0fb",
   "metadata": {},
   "source": [
    "## 向量与矩阵的计算"
   ]
  },
  {
   "cell_type": "code",
   "execution_count": null,
   "id": "5a645ff4-4554-4f35-987a-32c437433793",
   "metadata": {},
   "outputs": [],
   "source": []
  },
  {
   "cell_type": "markdown",
   "id": "6b941eea-0d46-49a7-bed3-601ce23b0175",
   "metadata": {},
   "source": [
    "# 练习\n",
    "## EX1"
   ]
  },
  {
   "cell_type": "code",
   "execution_count": 47,
   "id": "0e606eb2-47ee-456a-9e0b-b8be995f22cb",
   "metadata": {},
   "outputs": [
    {
     "name": "stdout",
     "output_type": "stream",
     "text": [
      "(2, 3) (3, 4) (2, 4)\n"
     ]
    }
   ],
   "source": [
    "M1 = np.random.randn(2,3)\n",
    "M2 = np.random.randn(3,4)\n",
    "res = np.empty((M1.shape[0],M2.shape[1]))\n",
    "print(M1.shape,M2.shape,res.shape)"
   ]
  },
  {
   "cell_type": "code",
   "execution_count": 48,
   "id": "1ad8ce66-4603-41a9-af8a-ce06a090c51e",
   "metadata": {},
   "outputs": [
    {
     "data": {
      "text/plain": [
       "array([[-0.18775266, -0.91381401, -0.68493255],\n",
       "       [-0.3132573 , -0.13877611,  0.83610451]])"
      ]
     },
     "execution_count": 48,
     "metadata": {},
     "output_type": "execute_result"
    }
   ],
   "source": [
    "M1"
   ]
  },
  {
   "cell_type": "code",
   "execution_count": 49,
   "id": "a25271bd-d118-478e-b89b-a179231d837c",
   "metadata": {},
   "outputs": [
    {
     "data": {
      "text/plain": [
       "array([[-0.34795759, -0.44560839, -0.35562451,  0.09535585],\n",
       "       [ 1.45664096, -1.91884583, -0.82005848, -1.72828048],\n",
       "       [-0.15413475,  0.33152889, -1.44101442, -0.27714041]])"
      ]
     },
     "execution_count": 49,
     "metadata": {},
     "output_type": "execute_result"
    }
   ],
   "source": [
    "M2"
   ]
  },
  {
   "cell_type": "code",
   "execution_count": 50,
   "id": "92291418-19f6-4301-a724-061b2a0b4321",
   "metadata": {},
   "outputs": [
    {
     "data": {
      "text/plain": [
       "True"
      ]
     },
     "execution_count": 50,
     "metadata": {},
     "output_type": "execute_result"
    }
   ],
   "source": [
    "for i in range(M1.shape[0]):\n",
    "    for j in range(M2.shape[1]):\n",
    "        item = 0\n",
    "        for k in range(M1.shape[1]):\n",
    "            item += M1[i][k] * M2[k][j]\n",
    "        res[i][j] = item\n",
    "(np.abs((M1@M2 - res) < 1e-15)).all() # 排除数值误差"
   ]
  },
  {
   "cell_type": "code",
   "execution_count": 51,
   "id": "924caed4-c21d-4612-9d74-6328908fd330",
   "metadata": {},
   "outputs": [
    {
     "data": {
      "text/plain": [
       "array([[-1.16019705,  1.61005745,  1.80314806,  1.7512461 ],\n",
       "       [-0.22201947,  0.68307284, -0.97963215, -0.02174522]])"
      ]
     },
     "execution_count": 51,
     "metadata": {},
     "output_type": "execute_result"
    }
   ],
   "source": [
    "res"
   ]
  },
  {
   "cell_type": "code",
   "execution_count": null,
   "id": "c77e3a6e-90dc-45bf-a68b-0289cc3a046f",
   "metadata": {},
   "outputs": [],
   "source": []
  },
  {
   "cell_type": "code",
   "execution_count": 52,
   "id": "90d11c03-30e1-4be4-9d40-06fed152c875",
   "metadata": {},
   "outputs": [
    {
     "data": {
      "text/plain": [
       "array([[-1.16019705,  1.61005745,  1.80314806,  1.7512461 ],\n",
       "       [-0.22201947,  0.68307284, -0.97963215, -0.02174522]])"
      ]
     },
     "execution_count": 52,
     "metadata": {},
     "output_type": "execute_result"
    }
   ],
   "source": [
    "M12=np.array([[sum(M1[i][k] * M2[k][j] for k in range(M1.shape[1])) for j in range(M2.shape[1])] for i in range(M1.shape[0]) ])\n",
    "M12"
   ]
  },
  {
   "cell_type": "code",
   "execution_count": 53,
   "id": "ec97f34c-f030-4d95-af1f-f996d8e73d51",
   "metadata": {},
   "outputs": [
    {
     "data": {
      "text/plain": [
       "(2, 4)"
      ]
     },
     "execution_count": 53,
     "metadata": {},
     "output_type": "execute_result"
    }
   ],
   "source": [
    "M12.shape"
   ]
  },
  {
   "cell_type": "markdown",
   "id": "a9be72f2-316c-4c54-a4ad-a9b839eb0210",
   "metadata": {},
   "source": [
    "## EX2"
   ]
  },
  {
   "cell_type": "code",
   "execution_count": 54,
   "id": "c6485972-bcbd-420b-b887-c6fde3cabddf",
   "metadata": {},
   "outputs": [
    {
     "data": {
      "text/plain": [
       "array([[1, 2, 3],\n",
       "       [4, 5, 6],\n",
       "       [7, 8, 9]])"
      ]
     },
     "execution_count": 54,
     "metadata": {},
     "output_type": "execute_result"
    }
   ],
   "source": [
    "A = np.arange(1,10).reshape(3,-1)\n",
    "A"
   ]
  },
  {
   "cell_type": "code",
   "execution_count": 55,
   "id": "8f999e0c-7277-47e5-adf6-c29e1ae5414c",
   "metadata": {},
   "outputs": [
    {
     "data": {
      "text/plain": [
       "array([[1.83333333, 3.66666667, 5.5       ],\n",
       "       [2.46666667, 3.08333333, 3.7       ],\n",
       "       [2.65277778, 3.03174603, 3.41071429]])"
      ]
     },
     "execution_count": 55,
     "metadata": {},
     "output_type": "execute_result"
    }
   ],
   "source": [
    "B = A*(1/A).sum(1).reshape(-1,1)\n",
    "B"
   ]
  },
  {
   "cell_type": "code",
   "execution_count": null,
   "id": "0487a214-ee67-4e01-bfe6-e2f85ef25242",
   "metadata": {},
   "outputs": [],
   "source": []
  }
 ],
 "metadata": {
  "kernelspec": {
   "display_name": "Python 3 (ipykernel)",
   "language": "python",
   "name": "python3"
  },
  "language_info": {
   "codemirror_mode": {
    "name": "ipython",
    "version": 3
   },
   "file_extension": ".py",
   "mimetype": "text/x-python",
   "name": "python",
   "nbconvert_exporter": "python",
   "pygments_lexer": "ipython3",
   "version": "3.10.0"
  },
  "toc-autonumbering": true
 },
 "nbformat": 4,
 "nbformat_minor": 5
}
