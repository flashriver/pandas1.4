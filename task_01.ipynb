{
 "cells": [
  {
   "cell_type": "code",
   "execution_count": null,
   "id": "276c2df8-c35d-4e45-b3f0-837ea0b6a280",
   "metadata": {},
   "outputs": [],
   "source": [
    "2022.08.20"
   ]
  },
  {
   "cell_type": "code",
   "execution_count": 14,
   "id": "f12af64f-d65c-4b1e-a5ec-148573b7eab6",
   "metadata": {
    "collapsed": true,
    "jupyter": {
     "outputs_hidden": true
    },
    "tags": []
   },
   "outputs": [
    {
     "name": "stdout",
     "output_type": "stream",
     "text": [
      "\n",
      "INSTALLED VERSIONS\n",
      "------------------\n",
      "commit           : bb1f651536508cdfef8550f93ace7849b00046ee\n",
      "python           : 3.10.0.final.0\n",
      "python-bits      : 64\n",
      "OS               : Windows\n",
      "OS-release       : 10\n",
      "Version          : 10.0.19044\n",
      "machine          : AMD64\n",
      "processor        : Intel64 Family 6 Model 60 Stepping 3, GenuineIntel\n",
      "byteorder        : little\n",
      "LC_ALL           : None\n",
      "LANG             : zh_CN.UTF-8\n",
      "LOCALE           : Chinese (Simplified)_China.936\n",
      "\n",
      "pandas           : 1.4.0\n",
      "numpy            : 1.21.5\n",
      "pytz             : 2021.3\n",
      "dateutil         : 2.8.2\n",
      "pip              : 21.2.4\n",
      "setuptools       : 61.2.0\n",
      "Cython           : None\n",
      "pytest           : None\n",
      "hypothesis       : None\n",
      "sphinx           : None\n",
      "blosc            : None\n",
      "feather          : None\n",
      "xlsxwriter       : None\n",
      "lxml.etree       : None\n",
      "html5lib         : None\n",
      "pymysql          : None\n",
      "psycopg2         : None\n",
      "jinja2           : 3.0.3\n",
      "IPython          : 8.3.0\n",
      "pandas_datareader: None\n",
      "bs4              : 4.11.1\n",
      "bottleneck       : None\n",
      "fastparquet      : None\n",
      "fsspec           : None\n",
      "gcsfs            : None\n",
      "matplotlib       : 3.5.2\n",
      "numba            : None\n",
      "numexpr          : 2.8.1\n",
      "odfpy            : None\n",
      "openpyxl         : 3.0.10\n",
      "pandas_gbq       : None\n",
      "pyarrow          : None\n",
      "pyreadstat       : None\n",
      "pyxlsb           : None\n",
      "s3fs             : None\n",
      "scipy            : None\n",
      "sqlalchemy       : None\n",
      "tables           : 3.7.0\n",
      "tabulate         : None\n",
      "xarray           : None\n",
      "xlrd             : 2.0.1\n",
      "xlwt             : None\n",
      "zstandard        : None\n"
     ]
    }
   ],
   "source": [
    "import numpy as np\n",
    "import pandas as pd\n",
    "pd.show_versions()"
   ]
  },
  {
   "cell_type": "markdown",
   "id": "945e988c-56d2-4219-916b-511163674ca2",
   "metadata": {},
   "source": [
    "# 预备知识\n",
    "## 列表推导式与条件赋值"
   ]
  },
  {
   "cell_type": "markdown",
   "id": "6a08b998-f7e3-4ac9-9335-fcfa664858ff",
   "metadata": {},
   "source": [
    "## 匿名函数与map方法"
   ]
  },
  {
   "cell_type": "markdown",
   "id": "257d1e57-141d-423f-8acb-e5b3ce5063c9",
   "metadata": {},
   "source": [
    "## zip对象与enumerate方法"
   ]
  },
  {
   "cell_type": "markdown",
   "id": "73f385d3-4406-4c93-ad29-b62db55d44c2",
   "metadata": {},
   "source": [
    "# Numpy 基础\n",
    "## np数组的构造"
   ]
  },
  {
   "cell_type": "markdown",
   "id": "2615dc80-faf6-45d9-ac23-eab4141042ec",
   "metadata": {},
   "source": [
    "## np数组的变形与合并"
   ]
  },
  {
   "cell_type": "code",
   "execution_count": null,
   "id": "2a450149-4926-4599-a2f7-320c154f3f47",
   "metadata": {},
   "outputs": [],
   "source": []
  },
  {
   "cell_type": "markdown",
   "id": "b90e8075-b9d7-4999-9733-c3f79e670df3",
   "metadata": {},
   "source": [
    "## np数组的切片与索引"
   ]
  },
  {
   "cell_type": "code",
   "execution_count": null,
   "id": "25137aec-e17f-431a-8339-5839dfdfa655",
   "metadata": {},
   "outputs": [],
   "source": []
  },
  {
   "cell_type": "markdown",
   "id": "23fcb834-06d7-439d-80d4-0e29d1b2de66",
   "metadata": {},
   "source": [
    "## 常用函数"
   ]
  },
  {
   "cell_type": "code",
   "execution_count": null,
   "id": "1c9a9905-3045-471d-849f-85ab576d2d0a",
   "metadata": {},
   "outputs": [],
   "source": []
  },
  {
   "cell_type": "markdown",
   "id": "117ae7f9-5fd3-40b1-8214-5eb05fd6c308",
   "metadata": {},
   "source": [
    "## 广播机制"
   ]
  },
  {
   "cell_type": "code",
   "execution_count": null,
   "id": "adcffae1-17bc-484a-b2aa-af2db06ee941",
   "metadata": {},
   "outputs": [],
   "source": []
  },
  {
   "cell_type": "markdown",
   "id": "fca24e5b-3a73-438c-a004-ec44be67f0fb",
   "metadata": {},
   "source": [
    "## 向量与矩阵的计算"
   ]
  },
  {
   "cell_type": "code",
   "execution_count": null,
   "id": "5a645ff4-4554-4f35-987a-32c437433793",
   "metadata": {},
   "outputs": [],
   "source": []
  },
  {
   "cell_type": "markdown",
   "id": "6b941eea-0d46-49a7-bed3-601ce23b0175",
   "metadata": {},
   "source": [
    "# 练习\n",
    "## EX1"
   ]
  },
  {
   "cell_type": "code",
   "execution_count": 47,
   "id": "0e606eb2-47ee-456a-9e0b-b8be995f22cb",
   "metadata": {},
   "outputs": [
    {
     "name": "stdout",
     "output_type": "stream",
     "text": [
      "(2, 3) (3, 4) (2, 4)\n"
     ]
    }
   ],
   "source": [
    "M1 = np.random.randn(2,3)\n",
    "M2 = np.random.randn(3,4)\n",
    "res = np.empty((M1.shape[0],M2.shape[1]))\n",
    "print(M1.shape,M2.shape,res.shape)"
   ]
  },
  {
   "cell_type": "code",
   "execution_count": 48,
   "id": "1ad8ce66-4603-41a9-af8a-ce06a090c51e",
   "metadata": {},
   "outputs": [
    {
     "data": {
      "text/plain": [
       "array([[-0.18775266, -0.91381401, -0.68493255],\n",
       "       [-0.3132573 , -0.13877611,  0.83610451]])"
      ]
     },
     "execution_count": 48,
     "metadata": {},
     "output_type": "execute_result"
    }
   ],
   "source": [
    "M1"
   ]
  },
  {
   "cell_type": "code",
   "execution_count": 49,
   "id": "a25271bd-d118-478e-b89b-a179231d837c",
   "metadata": {},
   "outputs": [
    {
     "data": {
      "text/plain": [
       "array([[-0.34795759, -0.44560839, -0.35562451,  0.09535585],\n",
       "       [ 1.45664096, -1.91884583, -0.82005848, -1.72828048],\n",
       "       [-0.15413475,  0.33152889, -1.44101442, -0.27714041]])"
      ]
     },
     "execution_count": 49,
     "metadata": {},
     "output_type": "execute_result"
    }
   ],
   "source": [
    "M2"
   ]
  },
  {
   "cell_type": "code",
   "execution_count": 50,
   "id": "92291418-19f6-4301-a724-061b2a0b4321",
   "metadata": {},
   "outputs": [
    {
     "data": {
      "text/plain": [
       "True"
      ]
     },
     "execution_count": 50,
     "metadata": {},
     "output_type": "execute_result"
    }
   ],
   "source": [
    "for i in range(M1.shape[0]):\n",
    "    for j in range(M2.shape[1]):\n",
    "        item = 0\n",
    "        for k in range(M1.shape[1]):\n",
    "            item += M1[i][k] * M2[k][j]\n",
    "        res[i][j] = item\n",
    "(np.abs((M1@M2 - res) < 1e-15)).all() # 排除数值误差"
   ]
  },
  {
   "cell_type": "code",
   "execution_count": 51,
   "id": "924caed4-c21d-4612-9d74-6328908fd330",
   "metadata": {},
   "outputs": [
    {
     "data": {
      "text/plain": [
       "array([[-1.16019705,  1.61005745,  1.80314806,  1.7512461 ],\n",
       "       [-0.22201947,  0.68307284, -0.97963215, -0.02174522]])"
      ]
     },
     "execution_count": 51,
     "metadata": {},
     "output_type": "execute_result"
    }
   ],
   "source": [
    "res"
   ]
  },
  {
   "cell_type": "code",
   "execution_count": null,
   "id": "c77e3a6e-90dc-45bf-a68b-0289cc3a046f",
   "metadata": {},
   "outputs": [],
   "source": []
  },
  {
   "cell_type": "code",
   "execution_count": 52,
   "id": "90d11c03-30e1-4be4-9d40-06fed152c875",
   "metadata": {},
   "outputs": [
    {
     "data": {
      "text/plain": [
       "array([[-1.16019705,  1.61005745,  1.80314806,  1.7512461 ],\n",
       "       [-0.22201947,  0.68307284, -0.97963215, -0.02174522]])"
      ]
     },
     "execution_count": 52,
     "metadata": {},
     "output_type": "execute_result"
    }
   ],
   "source": [
    "M12=np.array([[sum(M1[i][k] * M2[k][j] for k in range(M1.shape[1])) for j in range(M2.shape[1])] for i in range(M1.shape[0]) ])\n",
    "M12"
   ]
  },
  {
   "cell_type": "code",
   "execution_count": 53,
   "id": "ec97f34c-f030-4d95-af1f-f996d8e73d51",
   "metadata": {},
   "outputs": [
    {
     "data": {
      "text/plain": [
       "(2, 4)"
      ]
     },
     "execution_count": 53,
     "metadata": {},
     "output_type": "execute_result"
    }
   ],
   "source": [
    "M12.shape"
   ]
  },
  {
   "cell_type": "markdown",
   "id": "a9be72f2-316c-4c54-a4ad-a9b839eb0210",
   "metadata": {},
   "source": [
    "## EX2"
   ]
  },
  {
   "cell_type": "code",
   "execution_count": 54,
   "id": "c6485972-bcbd-420b-b887-c6fde3cabddf",
   "metadata": {},
   "outputs": [
    {
     "data": {
      "text/plain": [
       "array([[1, 2, 3],\n",
       "       [4, 5, 6],\n",
       "       [7, 8, 9]])"
      ]
     },
     "execution_count": 54,
     "metadata": {},
     "output_type": "execute_result"
    }
   ],
   "source": [
    "A = np.arange(1,10).reshape(3,-1)\n",
    "A"
   ]
  },
  {
   "cell_type": "code",
   "execution_count": 55,
   "id": "8f999e0c-7277-47e5-adf6-c29e1ae5414c",
   "metadata": {},
   "outputs": [
    {
     "data": {
      "text/plain": [
       "array([[1.83333333, 3.66666667, 5.5       ],\n",
       "       [2.46666667, 3.08333333, 3.7       ],\n",
       "       [2.65277778, 3.03174603, 3.41071429]])"
      ]
     },
     "execution_count": 55,
     "metadata": {},
     "output_type": "execute_result"
    }
   ],
   "source": [
    "B = A*(1/A).sum(1).reshape(-1,1)\n",
    "B"
   ]
  },
  {
   "cell_type": "code",
   "execution_count": null,
   "id": "0487a214-ee67-4e01-bfe6-e2f85ef25242",
   "metadata": {},
   "outputs": [],
   "source": []
  }
 ],
 "metadata": {
  "kernelspec": {
   "display_name": "Python 3 (ipykernel)",
   "language": "python",
   "name": "python3"
  },
  "language_info": {
   "codemirror_mode": {
    "name": "ipython",
    "version": 3
   },
   "file_extension": ".py",
   "mimetype": "text/x-python",
   "name": "python",
   "nbconvert_exporter": "python",
   "pygments_lexer": "ipython3",
   "version": "3.10.0"
  },
  "toc-autonumbering": true
 },
 "nbformat": 4,
 "nbformat_minor": 5
}
